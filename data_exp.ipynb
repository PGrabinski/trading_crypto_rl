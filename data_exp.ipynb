{
 "cells": [
  {
   "cell_type": "code",
   "execution_count": 1,
   "metadata": {
    "collapsed": true,
    "pycharm": {
     "name": "#%%\n"
    }
   },
   "outputs": [],
   "source": [
    "import pandas as pd\n",
    "import datetime"
   ]
  },
  {
   "cell_type": "code",
   "execution_count": 19,
   "outputs": [],
   "source": [
    "done_data = pd.read_csv('done_data.csv')"
   ],
   "metadata": {
    "collapsed": false,
    "pycharm": {
     "name": "#%%\n"
    }
   }
  },
  {
   "cell_type": "code",
   "execution_count": 20,
   "outputs": [
    {
     "data": {
      "text/plain": "   Unnamed: 0  datadate   tic      adjcp       open       high        low  \\\n0           0  20090102  AAPL  12.964286  12.268571  13.005714  12.165714   \n1           1  20090102   AXP  19.330000  18.570000  19.520000  18.400000   \n2           2  20090102    BA  45.250000  42.800000  45.560000  42.780000   \n3           3  20090102   CAT  46.910000  44.910000  46.980000  44.710000   \n4           4  20090102  CSCO  16.960000  16.410000  17.000000  16.250000   \n\n       volume  macd    rsi        cci    adx  turbulence  \n0  26641980.0   0.0  100.0  66.666667  100.0         0.0  \n1  10955620.0   0.0  100.0  66.666667  100.0         0.0  \n2   7010171.0   0.0  100.0  66.666667  100.0         0.0  \n3   7116726.0   0.0    0.0  66.666667  100.0         0.0  \n4  40977480.0   0.0  100.0  66.666667  100.0         0.0  ",
      "text/html": "<div>\n<style scoped>\n    .dataframe tbody tr th:only-of-type {\n        vertical-align: middle;\n    }\n\n    .dataframe tbody tr th {\n        vertical-align: top;\n    }\n\n    .dataframe thead th {\n        text-align: right;\n    }\n</style>\n<table border=\"1\" class=\"dataframe\">\n  <thead>\n    <tr style=\"text-align: right;\">\n      <th></th>\n      <th>Unnamed: 0</th>\n      <th>datadate</th>\n      <th>tic</th>\n      <th>adjcp</th>\n      <th>open</th>\n      <th>high</th>\n      <th>low</th>\n      <th>volume</th>\n      <th>macd</th>\n      <th>rsi</th>\n      <th>cci</th>\n      <th>adx</th>\n      <th>turbulence</th>\n    </tr>\n  </thead>\n  <tbody>\n    <tr>\n      <th>0</th>\n      <td>0</td>\n      <td>20090102</td>\n      <td>AAPL</td>\n      <td>12.964286</td>\n      <td>12.268571</td>\n      <td>13.005714</td>\n      <td>12.165714</td>\n      <td>26641980.0</td>\n      <td>0.0</td>\n      <td>100.0</td>\n      <td>66.666667</td>\n      <td>100.0</td>\n      <td>0.0</td>\n    </tr>\n    <tr>\n      <th>1</th>\n      <td>1</td>\n      <td>20090102</td>\n      <td>AXP</td>\n      <td>19.330000</td>\n      <td>18.570000</td>\n      <td>19.520000</td>\n      <td>18.400000</td>\n      <td>10955620.0</td>\n      <td>0.0</td>\n      <td>100.0</td>\n      <td>66.666667</td>\n      <td>100.0</td>\n      <td>0.0</td>\n    </tr>\n    <tr>\n      <th>2</th>\n      <td>2</td>\n      <td>20090102</td>\n      <td>BA</td>\n      <td>45.250000</td>\n      <td>42.800000</td>\n      <td>45.560000</td>\n      <td>42.780000</td>\n      <td>7010171.0</td>\n      <td>0.0</td>\n      <td>100.0</td>\n      <td>66.666667</td>\n      <td>100.0</td>\n      <td>0.0</td>\n    </tr>\n    <tr>\n      <th>3</th>\n      <td>3</td>\n      <td>20090102</td>\n      <td>CAT</td>\n      <td>46.910000</td>\n      <td>44.910000</td>\n      <td>46.980000</td>\n      <td>44.710000</td>\n      <td>7116726.0</td>\n      <td>0.0</td>\n      <td>0.0</td>\n      <td>66.666667</td>\n      <td>100.0</td>\n      <td>0.0</td>\n    </tr>\n    <tr>\n      <th>4</th>\n      <td>4</td>\n      <td>20090102</td>\n      <td>CSCO</td>\n      <td>16.960000</td>\n      <td>16.410000</td>\n      <td>17.000000</td>\n      <td>16.250000</td>\n      <td>40977480.0</td>\n      <td>0.0</td>\n      <td>100.0</td>\n      <td>66.666667</td>\n      <td>100.0</td>\n      <td>0.0</td>\n    </tr>\n  </tbody>\n</table>\n</div>"
     },
     "execution_count": 20,
     "metadata": {},
     "output_type": "execute_result"
    }
   ],
   "source": [
    "done_data.head()"
   ],
   "metadata": {
    "collapsed": false,
    "pycharm": {
     "name": "#%%\n"
    }
   }
  },
  {
   "cell_type": "code",
   "execution_count": 21,
   "outputs": [],
   "source": [
    "val_datadate = done_data[(done_data.datadate > 20151001)&(done_data.datadate <= 20200707)].datadate.unique()\n",
    "full_datadate = done_data.datadate.unique()"
   ],
   "metadata": {
    "collapsed": false,
    "pycharm": {
     "name": "#%%\n"
    }
   }
  },
  {
   "cell_type": "code",
   "execution_count": 26,
   "outputs": [
    {
     "name": "stdout",
     "output_type": "stream",
     "text": [
      "(1198,) (2926,) 19.015873015873016 46.44444444444444\n"
     ]
    }
   ],
   "source": [
    "print(val_datadate.shape, full_datadate.shape, val_datadate.shape[0]/63, full_datadate.shape[0]/63)"
   ],
   "metadata": {
    "collapsed": false,
    "pycharm": {
     "name": "#%%\n"
    }
   }
  },
  {
   "cell_type": "code",
   "execution_count": 22,
   "outputs": [],
   "source": [
    "val_datadate_months = pd.Series(val_datadate//100).unique()\n",
    "full_datadate_months = pd.Series(full_datadate//100).unique()"
   ],
   "metadata": {
    "collapsed": false,
    "pycharm": {
     "name": "#%%\n"
    }
   }
  },
  {
   "cell_type": "code",
   "execution_count": 27,
   "outputs": [
    {
     "name": "stdout",
     "output_type": "stream",
     "text": [
      "(58,) (140,) 0.9206349206349206 2.2222222222222223\n"
     ]
    }
   ],
   "source": [
    "print(val_datadate_months.shape, full_datadate_months.shape, val_datadate_months.shape[0]/63, full_datadate_months.shape[0]/63)"
   ],
   "metadata": {
    "collapsed": false,
    "pycharm": {
     "name": "#%%\n"
    }
   }
  },
  {
   "cell_type": "code",
   "execution_count": 2,
   "outputs": [],
   "source": [
    "crypto_data = pd.read_csv('./data/crypto_full_data.csv')"
   ],
   "metadata": {
    "collapsed": false,
    "pycharm": {
     "name": "#%%\n"
    }
   }
  },
  {
   "cell_type": "code",
   "execution_count": 30,
   "outputs": [
    {
     "data": {
      "text/plain": "20220131"
     },
     "execution_count": 30,
     "metadata": {},
     "output_type": "execute_result"
    }
   ],
   "source": [
    "crypto_data.datadate.unique().max()"
   ],
   "metadata": {
    "collapsed": false,
    "pycharm": {
     "name": "#%%\n"
    }
   }
  },
  {
   "cell_type": "code",
   "execution_count": 31,
   "outputs": [
    {
     "data": {
      "text/plain": "20200610"
     },
     "execution_count": 31,
     "metadata": {},
     "output_type": "execute_result"
    }
   ],
   "source": [
    "crypto_data.datadate.unique().min()"
   ],
   "metadata": {
    "collapsed": false,
    "pycharm": {
     "name": "#%%\n"
    }
   }
  },
  {
   "cell_type": "code",
   "execution_count": 32,
   "outputs": [
    {
     "data": {
      "text/plain": "True"
     },
     "execution_count": 32,
     "metadata": {},
     "output_type": "execute_result"
    }
   ],
   "source": [
    "crypto_data.datadate.unique().min() > 20200600"
   ],
   "metadata": {
    "collapsed": false,
    "pycharm": {
     "name": "#%%\n"
    }
   }
  },
  {
   "cell_type": "code",
   "execution_count": 3,
   "outputs": [
    {
     "data": {
      "text/plain": "array(['ADA', 'AVAX', 'BNB', 'BTC', 'DOT', 'ETH', 'LINK', 'LTC', 'VET'],\n      dtype=object)"
     },
     "execution_count": 3,
     "metadata": {},
     "output_type": "execute_result"
    }
   ],
   "source": [
    "crypto_data.tic.unique()"
   ],
   "metadata": {
    "collapsed": false,
    "pycharm": {
     "name": "#%%\n"
    }
   }
  },
  {
   "cell_type": "code",
   "execution_count": 6,
   "outputs": [
    {
     "data": {
      "text/plain": "      Unnamed: 0  datadate  prccd  ajexdi  prcod  prchd  prcld  cshtrd\ntic                                                                   \nADA          601       601    601     601    601    601    601     601\nAVAX         497       497    497     497    497    497    497     497\nBNB          601       601    601     601    601    601    601     601\nBTC          601       601    601     601    601    601    601     601\nDOT          532       532    532     532    532    532    532     532\nETH          601       601    601     601    601    601    601     601\nLINK         601       601    601     601    601    601    601     601\nLTC          601       601    601     601    601    601    601     601\nVET          601       601    601     601    601    601    601     601",
      "text/html": "<div>\n<style scoped>\n    .dataframe tbody tr th:only-of-type {\n        vertical-align: middle;\n    }\n\n    .dataframe tbody tr th {\n        vertical-align: top;\n    }\n\n    .dataframe thead th {\n        text-align: right;\n    }\n</style>\n<table border=\"1\" class=\"dataframe\">\n  <thead>\n    <tr style=\"text-align: right;\">\n      <th></th>\n      <th>Unnamed: 0</th>\n      <th>datadate</th>\n      <th>prccd</th>\n      <th>ajexdi</th>\n      <th>prcod</th>\n      <th>prchd</th>\n      <th>prcld</th>\n      <th>cshtrd</th>\n    </tr>\n    <tr>\n      <th>tic</th>\n      <th></th>\n      <th></th>\n      <th></th>\n      <th></th>\n      <th></th>\n      <th></th>\n      <th></th>\n      <th></th>\n    </tr>\n  </thead>\n  <tbody>\n    <tr>\n      <th>ADA</th>\n      <td>601</td>\n      <td>601</td>\n      <td>601</td>\n      <td>601</td>\n      <td>601</td>\n      <td>601</td>\n      <td>601</td>\n      <td>601</td>\n    </tr>\n    <tr>\n      <th>AVAX</th>\n      <td>497</td>\n      <td>497</td>\n      <td>497</td>\n      <td>497</td>\n      <td>497</td>\n      <td>497</td>\n      <td>497</td>\n      <td>497</td>\n    </tr>\n    <tr>\n      <th>BNB</th>\n      <td>601</td>\n      <td>601</td>\n      <td>601</td>\n      <td>601</td>\n      <td>601</td>\n      <td>601</td>\n      <td>601</td>\n      <td>601</td>\n    </tr>\n    <tr>\n      <th>BTC</th>\n      <td>601</td>\n      <td>601</td>\n      <td>601</td>\n      <td>601</td>\n      <td>601</td>\n      <td>601</td>\n      <td>601</td>\n      <td>601</td>\n    </tr>\n    <tr>\n      <th>DOT</th>\n      <td>532</td>\n      <td>532</td>\n      <td>532</td>\n      <td>532</td>\n      <td>532</td>\n      <td>532</td>\n      <td>532</td>\n      <td>532</td>\n    </tr>\n    <tr>\n      <th>ETH</th>\n      <td>601</td>\n      <td>601</td>\n      <td>601</td>\n      <td>601</td>\n      <td>601</td>\n      <td>601</td>\n      <td>601</td>\n      <td>601</td>\n    </tr>\n    <tr>\n      <th>LINK</th>\n      <td>601</td>\n      <td>601</td>\n      <td>601</td>\n      <td>601</td>\n      <td>601</td>\n      <td>601</td>\n      <td>601</td>\n      <td>601</td>\n    </tr>\n    <tr>\n      <th>LTC</th>\n      <td>601</td>\n      <td>601</td>\n      <td>601</td>\n      <td>601</td>\n      <td>601</td>\n      <td>601</td>\n      <td>601</td>\n      <td>601</td>\n    </tr>\n    <tr>\n      <th>VET</th>\n      <td>601</td>\n      <td>601</td>\n      <td>601</td>\n      <td>601</td>\n      <td>601</td>\n      <td>601</td>\n      <td>601</td>\n      <td>601</td>\n    </tr>\n  </tbody>\n</table>\n</div>"
     },
     "execution_count": 6,
     "metadata": {},
     "output_type": "execute_result"
    }
   ],
   "source": [
    "crypto_data.groupby('tic').count()"
   ],
   "metadata": {
    "collapsed": false,
    "pycharm": {
     "name": "#%%\n"
    }
   }
  },
  {
   "cell_type": "code",
   "execution_count": null,
   "outputs": [],
   "source": [],
   "metadata": {
    "collapsed": false,
    "pycharm": {
     "name": "#%%\n"
    }
   }
  },
  {
   "cell_type": "code",
   "execution_count": 10,
   "outputs": [],
   "source": [
    "crypto_fuller = crypto_data[crypto_data.tic.apply(lambda x: x in ['ADA', 'BNB', 'BTC', 'ETH', 'LINK', 'LTC', 'VET'])]"
   ],
   "metadata": {
    "collapsed": false,
    "pycharm": {
     "name": "#%%\n"
    }
   }
  },
  {
   "cell_type": "code",
   "execution_count": 11,
   "outputs": [
    {
     "data": {
      "text/plain": "   Unnamed: 0  datadate  tic    prccd  ajexdi    prcod    prchd    prcld  \\\n0           0  20200610  ADA  0.08360     1.0  0.08170  0.08399  0.08060   \n1           1  20200611  ADA  0.07527     1.0  0.08360  0.08512  0.07300   \n2           2  20200612  ADA  0.07948     1.0  0.07527  0.08090  0.07497   \n3           3  20200613  ADA  0.07906     1.0  0.07948  0.07959  0.07700   \n4           4  20200614  ADA  0.07642     1.0  0.07909  0.07918  0.07561   \n\n        cshtrd  \n0  118268742.7  \n1  523976380.0  \n2  323950725.0  \n3  161240000.7  \n4  135355914.6  ",
      "text/html": "<div>\n<style scoped>\n    .dataframe tbody tr th:only-of-type {\n        vertical-align: middle;\n    }\n\n    .dataframe tbody tr th {\n        vertical-align: top;\n    }\n\n    .dataframe thead th {\n        text-align: right;\n    }\n</style>\n<table border=\"1\" class=\"dataframe\">\n  <thead>\n    <tr style=\"text-align: right;\">\n      <th></th>\n      <th>Unnamed: 0</th>\n      <th>datadate</th>\n      <th>tic</th>\n      <th>prccd</th>\n      <th>ajexdi</th>\n      <th>prcod</th>\n      <th>prchd</th>\n      <th>prcld</th>\n      <th>cshtrd</th>\n    </tr>\n  </thead>\n  <tbody>\n    <tr>\n      <th>0</th>\n      <td>0</td>\n      <td>20200610</td>\n      <td>ADA</td>\n      <td>0.08360</td>\n      <td>1.0</td>\n      <td>0.08170</td>\n      <td>0.08399</td>\n      <td>0.08060</td>\n      <td>118268742.7</td>\n    </tr>\n    <tr>\n      <th>1</th>\n      <td>1</td>\n      <td>20200611</td>\n      <td>ADA</td>\n      <td>0.07527</td>\n      <td>1.0</td>\n      <td>0.08360</td>\n      <td>0.08512</td>\n      <td>0.07300</td>\n      <td>523976380.0</td>\n    </tr>\n    <tr>\n      <th>2</th>\n      <td>2</td>\n      <td>20200612</td>\n      <td>ADA</td>\n      <td>0.07948</td>\n      <td>1.0</td>\n      <td>0.07527</td>\n      <td>0.08090</td>\n      <td>0.07497</td>\n      <td>323950725.0</td>\n    </tr>\n    <tr>\n      <th>3</th>\n      <td>3</td>\n      <td>20200613</td>\n      <td>ADA</td>\n      <td>0.07906</td>\n      <td>1.0</td>\n      <td>0.07948</td>\n      <td>0.07959</td>\n      <td>0.07700</td>\n      <td>161240000.7</td>\n    </tr>\n    <tr>\n      <th>4</th>\n      <td>4</td>\n      <td>20200614</td>\n      <td>ADA</td>\n      <td>0.07642</td>\n      <td>1.0</td>\n      <td>0.07909</td>\n      <td>0.07918</td>\n      <td>0.07561</td>\n      <td>135355914.6</td>\n    </tr>\n  </tbody>\n</table>\n</div>"
     },
     "execution_count": 11,
     "metadata": {},
     "output_type": "execute_result"
    }
   ],
   "source": [
    "crypto_fuller.head()"
   ],
   "metadata": {
    "collapsed": false,
    "pycharm": {
     "name": "#%%\n"
    }
   }
  },
  {
   "cell_type": "code",
   "execution_count": 12,
   "outputs": [
    {
     "data": {
      "text/plain": "array(['ADA', 'BNB', 'BTC', 'ETH', 'LINK', 'LTC', 'VET'], dtype=object)"
     },
     "execution_count": 12,
     "metadata": {},
     "output_type": "execute_result"
    }
   ],
   "source": [
    "crypto_fuller.tic.unique()"
   ],
   "metadata": {
    "collapsed": false,
    "pycharm": {
     "name": "#%%\n"
    }
   }
  },
  {
   "cell_type": "code",
   "execution_count": 13,
   "outputs": [],
   "source": [
    "crypto_fuller.to_csv('./data/crypto_only_full.csv')"
   ],
   "metadata": {
    "collapsed": false,
    "pycharm": {
     "name": "#%%\n"
    }
   }
  },
  {
   "cell_type": "code",
   "execution_count": null,
   "outputs": [],
   "source": [],
   "metadata": {
    "collapsed": false,
    "pycharm": {
     "name": "#%%\n"
    }
   }
  }
 ],
 "metadata": {
  "kernelspec": {
   "display_name": "Python 3",
   "language": "python",
   "name": "python3"
  },
  "language_info": {
   "codemirror_mode": {
    "name": "ipython",
    "version": 2
   },
   "file_extension": ".py",
   "mimetype": "text/x-python",
   "name": "python",
   "nbconvert_exporter": "python",
   "pygments_lexer": "ipython2",
   "version": "2.7.6"
  }
 },
 "nbformat": 4,
 "nbformat_minor": 0
}